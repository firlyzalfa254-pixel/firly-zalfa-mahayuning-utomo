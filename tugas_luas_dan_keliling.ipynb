{
  "nbformat": 4,
  "nbformat_minor": 0,
  "metadata": {
    "colab": {
      "provenance": [],
      "authorship_tag": "ABX9TyOb5uII5S0JBiarAP5N3YnT",
      "include_colab_link": true
    },
    "kernelspec": {
      "name": "python3",
      "display_name": "Python 3"
    },
    "language_info": {
      "name": "python"
    }
  },
  "cells": [
    {
      "cell_type": "markdown",
      "metadata": {
        "id": "view-in-github",
        "colab_type": "text"
      },
      "source": [
        "<a href=\"https://colab.research.google.com/github/firlyzalfa254-pixel/firly-zalfa-mahayuning-utomo/blob/main/tugas_luas_dan_keliling.ipynb\" target=\"_parent\"><img src=\"https://colab.research.google.com/assets/colab-badge.svg\" alt=\"Open In Colab\"/></a>"
      ]
    },
    {
      "cell_type": "code",
      "execution_count": 1,
      "metadata": {
        "colab": {
          "base_uri": "https://localhost:8080/"
        },
        "id": "KhRtRx1REY4x",
        "outputId": "b29f16d6-9abf-4c0b-8d65-3f705e0fd6fe"
      },
      "outputs": [
        {
          "output_type": "stream",
          "name": "stdout",
          "text": [
            "Masukkan panjang persegi panjang: 15\n",
            "Masukkan lebar persegi panjang: 5\n",
            "Luas persegi panjang: 75.0\n",
            "Keliling persegi panjang: 40.0\n"
          ]
        }
      ],
      "source": [
        "# Fungsi untuk menghitung luas persegi panjang\n",
        "def hitung_luas(panjang, lebar):\n",
        "    return panjang * lebar\n",
        "\n",
        "# Fungsi untuk menghitung keliling persegi panjang\n",
        "def hitung_keliling(panjang, lebar):\n",
        "    return 2 * (panjang + lebar)\n",
        "\n",
        "# Input dari pengguna\n",
        "try:\n",
        "    panjang = float(input(\"Masukkan panjang persegi panjang: \"))\n",
        "    lebar = float(input(\"Masukkan lebar persegi panjang: \"))\n",
        "\n",
        "    # Menghitung luas dan keliling\n",
        "    luas = hitung_luas(panjang, lebar)\n",
        "    keliling = hitung_keliling(panjang, lebar)\n",
        "\n",
        "    # Menampilkan hasil\n",
        "    print(f\"Luas persegi panjang: {luas}\")\n",
        "    print(f\"Keliling persegi panjang: {keliling}\")\n",
        "\n",
        "except ValueError:\n",
        "    print(\"Masukkan harus berupa angka.\")\n"
      ]
    },
    {
      "cell_type": "code",
      "source": [
        "# Meminta input dari pengguna\n",
        "try:\n",
        "    bilangan1 = float(input(\"Masukkan bilangan pertama: \"))\n",
        "    bilangan2 = float(input(\"Masukkan bilangan kedua: \"))\n",
        "\n",
        "    # Menjumlahkan kedua bilangan\n",
        "    hasil = bilangan1 + bilangan2\n",
        "\n",
        "    # Menampilkan hasil\n",
        "    print(f\"Hasil penjumlahan: {bilangan1} + {bilangan2} = {hasil}\")\n",
        "\n",
        "except ValueError:\n",
        "    print(\"Masukkan harus berupa angka.\")\n"
      ],
      "metadata": {
        "colab": {
          "base_uri": "https://localhost:8080/"
        },
        "id": "N62-o5Q3EyKk",
        "outputId": "ce6a9aa9-0778-480d-bcf5-f1f79da94ad5"
      },
      "execution_count": 2,
      "outputs": [
        {
          "output_type": "stream",
          "name": "stdout",
          "text": [
            "Masukkan bilangan pertama: 10\n",
            "Masukkan bilangan kedua: 20\n",
            "Hasil penjumlahan: 10.0 + 20.0 = 30.0\n"
          ]
        }
      ]
    },
    {
      "cell_type": "code",
      "source": [
        "# Meminta input dari pengguna\n",
        "nama = input(\"Masukkan nama Anda: \")\n",
        "\n",
        "try:\n",
        "    umur = int(input(\"Masukkan umur Anda: \"))\n",
        "\n",
        "    # Mengecek apakah umur >= 18\n",
        "    if umur >= 18:\n",
        "        print(f\"Halo {nama}, Anda sudah cukup umur.\")\n",
        "    else:\n",
        "        print(f\"Halo {nama}, Anda belum cukup umur.\")\n",
        "\n",
        "except ValueError:\n",
        "    print(\"Umur harus berupa angka bulat.\")\n"
      ],
      "metadata": {
        "colab": {
          "base_uri": "https://localhost:8080/"
        },
        "id": "YLUa6TNoF5PC",
        "outputId": "5f8c1c2d-22a7-4bcf-c436-50a370c37192"
      },
      "execution_count": 3,
      "outputs": [
        {
          "output_type": "stream",
          "name": "stdout",
          "text": [
            "Masukkan nama Anda: ayu\n",
            "Masukkan umur Anda: 20\n",
            "Halo ayu, Anda sudah cukup umur.\n"
          ]
        }
      ]
    }
  ]
}