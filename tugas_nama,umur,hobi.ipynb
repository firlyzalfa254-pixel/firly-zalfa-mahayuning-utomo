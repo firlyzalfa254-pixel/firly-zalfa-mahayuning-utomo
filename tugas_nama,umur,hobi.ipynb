{
  "nbformat": 4,
  "nbformat_minor": 0,
  "metadata": {
    "colab": {
      "provenance": [],
      "authorship_tag": "ABX9TyMgFQNk3HHQpfU4EEUqAowQ",
      "include_colab_link": true
    },
    "kernelspec": {
      "name": "python3",
      "display_name": "Python 3"
    },
    "language_info": {
      "name": "python"
    }
  },
  "cells": [
    {
      "cell_type": "markdown",
      "metadata": {
        "id": "view-in-github",
        "colab_type": "text"
      },
      "source": [
        "<a href=\"https://colab.research.google.com/github/firlyzalfa254-pixel/firly-zalfa-mahayuning-utomo/blob/main/tugas_nama%2Cumur%2Chobi.ipynb\" target=\"_parent\"><img src=\"https://colab.research.google.com/assets/colab-badge.svg\" alt=\"Open In Colab\"/></a>"
      ]
    },
    {
      "cell_type": "code",
      "execution_count": 1,
      "metadata": {
        "colab": {
          "base_uri": "https://localhost:8080/"
        },
        "id": "n1hGDXtXPf3M",
        "outputId": "a78bca72-852c-4d3b-d6f5-9c2f886b09b3"
      },
      "outputs": [
        {
          "output_type": "stream",
          "name": "stdout",
          "text": [
            "Masukkan nama Anda: zalfa\n",
            "Masukkan umur Anda: 20\n",
            "Masukkan hobi Anda: menari\n",
            "\n",
            "--- Data Anda ---\n",
            "Nama : zalfa\n",
            "Umur : 20 tahun\n",
            "Hobi : menari\n"
          ]
        }
      ],
      "source": [
        "# Program Input Output Sederhana\n",
        "\n",
        "# Meminta input dari pengguna\n",
        "nama = input(\"Masukkan nama Anda: \")\n",
        "umur = input(\"Masukkan umur Anda: \")\n",
        "hobi = input(\"Masukkan hobi Anda: \")\n",
        "\n",
        "# Menampilkan hasil\n",
        "print(\"\\n--- Data Anda ---\")\n",
        "print(f\"Nama : {nama}\")\n",
        "print(f\"Umur : {umur} tahun\")\n",
        "print(f\"Hobi : {hobi}\")\n"
      ]
    },
    {
      "cell_type": "code",
      "source": [
        "%%writefile main.cpp\n",
        "#include <iostream>\n",
        "#include <string> // untuk tipe data string\n",
        "\n",
        "using namespace std;\n",
        "\n",
        "int main() {\n",
        "    string nama, hobi;\n",
        "    int umur;\n",
        "\n",
        "    // Meminta input dari pengguna\n",
        "    cout << \"Masukkan nama Anda: \";\n",
        "    getline(cin, nama); // gunakan getline agar bisa membaca spasi\n",
        "\n",
        "    cout << \"Masukkan umur Anda: \";\n",
        "    cin >> umur;\n",
        "    cin.ignore(); // membersihkan buffer agar getline berikutnya tidak terlewat\n",
        "\n",
        "    cout << \"Masukkan hobi Anda: \";\n",
        "    getline(cin, hobi);\n",
        "\n",
        "    // Menampilkan hasil\n",
        "    cout << \"\\n--- Data Anda ---\" << endl;\n",
        "    cout << \"Nama : \" << nama << endl;\n",
        "    cout << \"Umur : \" << umur << \" tahun\" << endl;\n",
        "    cout << \"Hobi : \" << hobi << endl;\n",
        "\n",
        "    return 0;\n",
        "}\n"
      ],
      "metadata": {
        "colab": {
          "base_uri": "https://localhost:8080/"
        },
        "id": "nGYf4qbiRHiH",
        "outputId": "45335004-9820-4f23-b10d-ccd6c99e5f4d"
      },
      "execution_count": 3,
      "outputs": [
        {
          "output_type": "stream",
          "name": "stdout",
          "text": [
            "Overwriting main.cpp\n"
          ]
        }
      ]
    },
    {
      "cell_type": "code",
      "source": [
        "!g++ main.cpp -o main\n",
        "!./main"
      ],
      "metadata": {
        "colab": {
          "base_uri": "https://localhost:8080/"
        },
        "id": "6wBt-TczSA8S",
        "outputId": "aaee7eaf-7087-482e-a3e5-f60cdb94d8b4"
      },
      "execution_count": 6,
      "outputs": [
        {
          "output_type": "stream",
          "name": "stdout",
          "text": [
            "Masukkan nama Anda: zalfa\n",
            "Masukkan umur Anda: 20\n",
            "Masukkan hobi Anda: menari\n",
            "\n",
            "--- Data Anda ---\n",
            "Nama : zalfa\n",
            "Umur : 20 tahun\n",
            "Hobi : menari\n"
          ]
        }
      ]
    }
  ]
}